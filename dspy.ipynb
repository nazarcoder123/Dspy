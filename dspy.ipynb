{
  "nbformat": 4,
  "nbformat_minor": 0,
  "metadata": {
    "colab": {
      "provenance": [],
      "authorship_tag": "ABX9TyNwc67ztuukH3jmJXQJZXPu",
      "include_colab_link": true
    },
    "kernelspec": {
      "name": "python3",
      "display_name": "Python 3"
    },
    "language_info": {
      "name": "python"
    }
  },
  "cells": [
    {
      "cell_type": "markdown",
      "metadata": {
        "id": "view-in-github",
        "colab_type": "text"
      },
      "source": [
        "<a href=\"https://colab.research.google.com/github/nazarcoder123/Dspy/blob/main/dspy.ipynb\" target=\"_parent\"><img src=\"https://colab.research.google.com/assets/colab-badge.svg\" alt=\"Open In Colab\"/></a>"
      ]
    },
    {
      "cell_type": "code",
      "execution_count": null,
      "metadata": {
        "colab": {
          "base_uri": "https://localhost:8080/"
        },
        "id": "qTBkPdrYCtVe",
        "outputId": "7d4ba7f1-ef85-4c82-91a6-f2325d0b3365"
      },
      "outputs": [
        {
          "output_type": "stream",
          "name": "stdout",
          "text": [
            "Collecting dspy\n",
            "  Downloading dspy-3.0.3-py3-none-any.whl.metadata (7.2 kB)\n",
            "Collecting backoff>=2.2 (from dspy)\n",
            "  Downloading backoff-2.2.1-py3-none-any.whl.metadata (14 kB)\n",
            "Requirement already satisfied: joblib~=1.3 in /usr/local/lib/python3.12/dist-packages (from dspy) (1.5.2)\n",
            "Requirement already satisfied: openai>=0.28.1 in /usr/local/lib/python3.12/dist-packages (from dspy) (1.107.0)\n",
            "Requirement already satisfied: regex>=2023.10.3 in /usr/local/lib/python3.12/dist-packages (from dspy) (2024.11.6)\n",
            "Requirement already satisfied: orjson>=3.9.0 in /usr/local/lib/python3.12/dist-packages (from dspy) (3.11.3)\n",
            "Requirement already satisfied: tqdm>=4.66.1 in /usr/local/lib/python3.12/dist-packages (from dspy) (4.67.1)\n",
            "Requirement already satisfied: requests>=2.31.0 in /usr/local/lib/python3.12/dist-packages (from dspy) (2.32.4)\n",
            "Collecting optuna>=3.4.0 (from dspy)\n",
            "  Downloading optuna-4.5.0-py3-none-any.whl.metadata (17 kB)\n",
            "Requirement already satisfied: pydantic>=2.0 in /usr/local/lib/python3.12/dist-packages (from dspy) (2.11.7)\n",
            "Collecting magicattr>=0.1.6 (from dspy)\n",
            "  Downloading magicattr-0.1.6-py2.py3-none-any.whl.metadata (3.2 kB)\n",
            "Collecting litellm>=1.64.0 (from dspy)\n",
            "  Downloading litellm-1.77.3-py3-none-any.whl.metadata (42 kB)\n",
            "\u001b[2K     \u001b[90m━━━━━━━━━━━━━━━━━━━━━━━━━━━━━━━━━━━━━━━━\u001b[0m \u001b[32m42.8/42.8 kB\u001b[0m \u001b[31m1.6 MB/s\u001b[0m eta \u001b[36m0:00:00\u001b[0m\n",
            "\u001b[?25hCollecting diskcache>=5.6.0 (from dspy)\n",
            "  Downloading diskcache-5.6.3-py3-none-any.whl.metadata (20 kB)\n",
            "Collecting json-repair>=0.30.0 (from dspy)\n",
            "  Downloading json_repair-0.51.0-py3-none-any.whl.metadata (11 kB)\n",
            "Requirement already satisfied: tenacity>=8.2.3 in /usr/local/lib/python3.12/dist-packages (from dspy) (8.5.0)\n",
            "Requirement already satisfied: anyio in /usr/local/lib/python3.12/dist-packages (from dspy) (4.10.0)\n",
            "Collecting asyncer==0.0.8 (from dspy)\n",
            "  Downloading asyncer-0.0.8-py3-none-any.whl.metadata (6.7 kB)\n",
            "Requirement already satisfied: cachetools>=5.5.0 in /usr/local/lib/python3.12/dist-packages (from dspy) (5.5.2)\n",
            "Requirement already satisfied: cloudpickle>=3.0.0 in /usr/local/lib/python3.12/dist-packages (from dspy) (3.1.1)\n",
            "Requirement already satisfied: rich>=13.7.1 in /usr/local/lib/python3.12/dist-packages (from dspy) (13.9.4)\n",
            "Requirement already satisfied: numpy>=1.26.0 in /usr/local/lib/python3.12/dist-packages (from dspy) (2.0.2)\n",
            "Requirement already satisfied: xxhash>=3.5.0 in /usr/local/lib/python3.12/dist-packages (from dspy) (3.5.0)\n",
            "Collecting gepa==0.0.7 (from gepa[dspy]==0.0.7->dspy)\n",
            "  Downloading gepa-0.0.7-py3-none-any.whl.metadata (22 kB)\n",
            "Requirement already satisfied: idna>=2.8 in /usr/local/lib/python3.12/dist-packages (from anyio->dspy) (3.10)\n",
            "Requirement already satisfied: sniffio>=1.1 in /usr/local/lib/python3.12/dist-packages (from anyio->dspy) (1.3.1)\n",
            "Requirement already satisfied: typing_extensions>=4.5 in /usr/local/lib/python3.12/dist-packages (from anyio->dspy) (4.15.0)\n",
            "Requirement already satisfied: aiohttp>=3.10 in /usr/local/lib/python3.12/dist-packages (from litellm>=1.64.0->dspy) (3.12.15)\n",
            "Requirement already satisfied: click in /usr/local/lib/python3.12/dist-packages (from litellm>=1.64.0->dspy) (8.2.1)\n",
            "Collecting fastuuid>=0.12.0 (from litellm>=1.64.0->dspy)\n",
            "  Downloading fastuuid-0.12.0-cp312-cp312-manylinux_2_34_x86_64.whl.metadata (7.8 kB)\n",
            "Requirement already satisfied: httpx>=0.23.0 in /usr/local/lib/python3.12/dist-packages (from litellm>=1.64.0->dspy) (0.28.1)\n",
            "Requirement already satisfied: importlib-metadata>=6.8.0 in /usr/local/lib/python3.12/dist-packages (from litellm>=1.64.0->dspy) (8.7.0)\n",
            "Requirement already satisfied: jinja2<4.0.0,>=3.1.2 in /usr/local/lib/python3.12/dist-packages (from litellm>=1.64.0->dspy) (3.1.6)\n",
            "Requirement already satisfied: jsonschema<5.0.0,>=4.22.0 in /usr/local/lib/python3.12/dist-packages (from litellm>=1.64.0->dspy) (4.25.1)\n",
            "Collecting pondpond<2.0.0,>=1.4.1 (from litellm>=1.64.0->dspy)\n",
            "  Downloading pondpond-1.4.1-py3-none-any.whl.metadata (6.3 kB)\n",
            "Requirement already satisfied: python-dotenv>=0.2.0 in /usr/local/lib/python3.12/dist-packages (from litellm>=1.64.0->dspy) (1.1.1)\n",
            "Requirement already satisfied: tiktoken>=0.7.0 in /usr/local/lib/python3.12/dist-packages (from litellm>=1.64.0->dspy) (0.11.0)\n",
            "Requirement already satisfied: tokenizers in /usr/local/lib/python3.12/dist-packages (from litellm>=1.64.0->dspy) (0.22.0)\n",
            "Requirement already satisfied: distro<2,>=1.7.0 in /usr/local/lib/python3.12/dist-packages (from openai>=0.28.1->dspy) (1.9.0)\n",
            "Requirement already satisfied: jiter<1,>=0.4.0 in /usr/local/lib/python3.12/dist-packages (from openai>=0.28.1->dspy) (0.10.0)\n",
            "Requirement already satisfied: alembic>=1.5.0 in /usr/local/lib/python3.12/dist-packages (from optuna>=3.4.0->dspy) (1.16.5)\n",
            "Collecting colorlog (from optuna>=3.4.0->dspy)\n",
            "  Downloading colorlog-6.9.0-py3-none-any.whl.metadata (10 kB)\n",
            "Requirement already satisfied: packaging>=20.0 in /usr/local/lib/python3.12/dist-packages (from optuna>=3.4.0->dspy) (25.0)\n",
            "Requirement already satisfied: sqlalchemy>=1.4.2 in /usr/local/lib/python3.12/dist-packages (from optuna>=3.4.0->dspy) (2.0.43)\n",
            "Requirement already satisfied: PyYAML in /usr/local/lib/python3.12/dist-packages (from optuna>=3.4.0->dspy) (6.0.2)\n",
            "Requirement already satisfied: annotated-types>=0.6.0 in /usr/local/lib/python3.12/dist-packages (from pydantic>=2.0->dspy) (0.7.0)\n",
            "Requirement already satisfied: pydantic-core==2.33.2 in /usr/local/lib/python3.12/dist-packages (from pydantic>=2.0->dspy) (2.33.2)\n",
            "Requirement already satisfied: typing-inspection>=0.4.0 in /usr/local/lib/python3.12/dist-packages (from pydantic>=2.0->dspy) (0.4.1)\n",
            "Requirement already satisfied: charset_normalizer<4,>=2 in /usr/local/lib/python3.12/dist-packages (from requests>=2.31.0->dspy) (3.4.3)\n",
            "Requirement already satisfied: urllib3<3,>=1.21.1 in /usr/local/lib/python3.12/dist-packages (from requests>=2.31.0->dspy) (2.5.0)\n",
            "Requirement already satisfied: certifi>=2017.4.17 in /usr/local/lib/python3.12/dist-packages (from requests>=2.31.0->dspy) (2025.8.3)\n",
            "Requirement already satisfied: markdown-it-py>=2.2.0 in /usr/local/lib/python3.12/dist-packages (from rich>=13.7.1->dspy) (4.0.0)\n",
            "Requirement already satisfied: pygments<3.0.0,>=2.13.0 in /usr/local/lib/python3.12/dist-packages (from rich>=13.7.1->dspy) (2.19.2)\n",
            "Requirement already satisfied: aiohappyeyeballs>=2.5.0 in /usr/local/lib/python3.12/dist-packages (from aiohttp>=3.10->litellm>=1.64.0->dspy) (2.6.1)\n",
            "Requirement already satisfied: aiosignal>=1.4.0 in /usr/local/lib/python3.12/dist-packages (from aiohttp>=3.10->litellm>=1.64.0->dspy) (1.4.0)\n",
            "Requirement already satisfied: attrs>=17.3.0 in /usr/local/lib/python3.12/dist-packages (from aiohttp>=3.10->litellm>=1.64.0->dspy) (25.3.0)\n",
            "Requirement already satisfied: frozenlist>=1.1.1 in /usr/local/lib/python3.12/dist-packages (from aiohttp>=3.10->litellm>=1.64.0->dspy) (1.7.0)\n",
            "Requirement already satisfied: multidict<7.0,>=4.5 in /usr/local/lib/python3.12/dist-packages (from aiohttp>=3.10->litellm>=1.64.0->dspy) (6.6.4)\n",
            "Requirement already satisfied: propcache>=0.2.0 in /usr/local/lib/python3.12/dist-packages (from aiohttp>=3.10->litellm>=1.64.0->dspy) (0.3.2)\n",
            "Requirement already satisfied: yarl<2.0,>=1.17.0 in /usr/local/lib/python3.12/dist-packages (from aiohttp>=3.10->litellm>=1.64.0->dspy) (1.20.1)\n",
            "Requirement already satisfied: Mako in /usr/local/lib/python3.12/dist-packages (from alembic>=1.5.0->optuna>=3.4.0->dspy) (1.3.10)\n",
            "Requirement already satisfied: httpcore==1.* in /usr/local/lib/python3.12/dist-packages (from httpx>=0.23.0->litellm>=1.64.0->dspy) (1.0.9)\n",
            "Requirement already satisfied: h11>=0.16 in /usr/local/lib/python3.12/dist-packages (from httpcore==1.*->httpx>=0.23.0->litellm>=1.64.0->dspy) (0.16.0)\n",
            "Requirement already satisfied: zipp>=3.20 in /usr/local/lib/python3.12/dist-packages (from importlib-metadata>=6.8.0->litellm>=1.64.0->dspy) (3.23.0)\n",
            "Requirement already satisfied: MarkupSafe>=2.0 in /usr/local/lib/python3.12/dist-packages (from jinja2<4.0.0,>=3.1.2->litellm>=1.64.0->dspy) (3.0.2)\n",
            "Requirement already satisfied: jsonschema-specifications>=2023.03.6 in /usr/local/lib/python3.12/dist-packages (from jsonschema<5.0.0,>=4.22.0->litellm>=1.64.0->dspy) (2025.9.1)\n",
            "Requirement already satisfied: referencing>=0.28.4 in /usr/local/lib/python3.12/dist-packages (from jsonschema<5.0.0,>=4.22.0->litellm>=1.64.0->dspy) (0.36.2)\n",
            "Requirement already satisfied: rpds-py>=0.7.1 in /usr/local/lib/python3.12/dist-packages (from jsonschema<5.0.0,>=4.22.0->litellm>=1.64.0->dspy) (0.27.1)\n",
            "Requirement already satisfied: mdurl~=0.1 in /usr/local/lib/python3.12/dist-packages (from markdown-it-py>=2.2.0->rich>=13.7.1->dspy) (0.1.2)\n",
            "Collecting madoka>=0.7.1 (from pondpond<2.0.0,>=1.4.1->litellm>=1.64.0->dspy)\n",
            "  Downloading madoka-0.7.1.tar.gz (81 kB)\n",
            "\u001b[2K     \u001b[90m━━━━━━━━━━━━━━━━━━━━━━━━━━━━━━━━━━━━━━━━\u001b[0m \u001b[32m81.4/81.4 kB\u001b[0m \u001b[31m5.4 MB/s\u001b[0m eta \u001b[36m0:00:00\u001b[0m\n",
            "\u001b[?25h  Preparing metadata (setup.py) ... \u001b[?25l\u001b[?25hdone\n",
            "Requirement already satisfied: greenlet>=1 in /usr/local/lib/python3.12/dist-packages (from sqlalchemy>=1.4.2->optuna>=3.4.0->dspy) (3.2.4)\n",
            "Requirement already satisfied: huggingface-hub<1.0,>=0.16.4 in /usr/local/lib/python3.12/dist-packages (from tokenizers->litellm>=1.64.0->dspy) (0.34.4)\n",
            "Requirement already satisfied: filelock in /usr/local/lib/python3.12/dist-packages (from huggingface-hub<1.0,>=0.16.4->tokenizers->litellm>=1.64.0->dspy) (3.19.1)\n",
            "Requirement already satisfied: fsspec>=2023.5.0 in /usr/local/lib/python3.12/dist-packages (from huggingface-hub<1.0,>=0.16.4->tokenizers->litellm>=1.64.0->dspy) (2025.3.0)\n",
            "Requirement already satisfied: hf-xet<2.0.0,>=1.1.3 in /usr/local/lib/python3.12/dist-packages (from huggingface-hub<1.0,>=0.16.4->tokenizers->litellm>=1.64.0->dspy) (1.1.9)\n",
            "Downloading dspy-3.0.3-py3-none-any.whl (261 kB)\n",
            "\u001b[2K   \u001b[90m━━━━━━━━━━━━━━━━━━━━━━━━━━━━━━━━━━━━━━━━\u001b[0m \u001b[32m261.7/261.7 kB\u001b[0m \u001b[31m11.1 MB/s\u001b[0m eta \u001b[36m0:00:00\u001b[0m\n",
            "\u001b[?25hDownloading asyncer-0.0.8-py3-none-any.whl (9.2 kB)\n",
            "Downloading gepa-0.0.7-py3-none-any.whl (52 kB)\n",
            "\u001b[2K   \u001b[90m━━━━━━━━━━━━━━━━━━━━━━━━━━━━━━━━━━━━━━━━\u001b[0m \u001b[32m52.3/52.3 kB\u001b[0m \u001b[31m4.5 MB/s\u001b[0m eta \u001b[36m0:00:00\u001b[0m\n",
            "\u001b[?25hDownloading backoff-2.2.1-py3-none-any.whl (15 kB)\n",
            "Downloading diskcache-5.6.3-py3-none-any.whl (45 kB)\n",
            "\u001b[2K   \u001b[90m━━━━━━━━━━━━━━━━━━━━━━━━━━━━━━━━━━━━━━━━\u001b[0m \u001b[32m45.5/45.5 kB\u001b[0m \u001b[31m3.7 MB/s\u001b[0m eta \u001b[36m0:00:00\u001b[0m\n",
            "\u001b[?25hDownloading json_repair-0.51.0-py3-none-any.whl (26 kB)\n",
            "Downloading litellm-1.77.3-py3-none-any.whl (9.1 MB)\n",
            "\u001b[2K   \u001b[90m━━━━━━━━━━━━━━━━━━━━━━━━━━━━━━━━━━━━━━━━\u001b[0m \u001b[32m9.1/9.1 MB\u001b[0m \u001b[31m89.8 MB/s\u001b[0m eta \u001b[36m0:00:00\u001b[0m\n",
            "\u001b[?25hDownloading magicattr-0.1.6-py2.py3-none-any.whl (4.7 kB)\n",
            "Downloading optuna-4.5.0-py3-none-any.whl (400 kB)\n",
            "\u001b[2K   \u001b[90m━━━━━━━━━━━━━━━━━━━━━━━━━━━━━━━━━━━━━━━━\u001b[0m \u001b[32m400.9/400.9 kB\u001b[0m \u001b[31m28.1 MB/s\u001b[0m eta \u001b[36m0:00:00\u001b[0m\n",
            "\u001b[?25hDownloading fastuuid-0.12.0-cp312-cp312-manylinux_2_34_x86_64.whl (278 kB)\n",
            "\u001b[2K   \u001b[90m━━━━━━━━━━━━━━━━━━━━━━━━━━━━━━━━━━━━━━━━\u001b[0m \u001b[32m278.4/278.4 kB\u001b[0m \u001b[31m20.7 MB/s\u001b[0m eta \u001b[36m0:00:00\u001b[0m\n",
            "\u001b[?25hDownloading pondpond-1.4.1-py3-none-any.whl (14 kB)\n",
            "Downloading colorlog-6.9.0-py3-none-any.whl (11 kB)\n",
            "Building wheels for collected packages: madoka\n",
            "  Building wheel for madoka (setup.py) ... \u001b[?25l\u001b[?25hdone\n",
            "  Created wheel for madoka: filename=madoka-0.7.1-cp312-cp312-linux_x86_64.whl size=779293 sha256=c57bb8ec6e92c06d4fb04a16fc96163e2ffedce1b64808ae4b26017fdfc2924b\n",
            "  Stored in directory: /root/.cache/pip/wheels/1b/20/03/40ecb5c612b2075d15f0afb855bf59c090d708336292458281\n",
            "Successfully built madoka\n",
            "Installing collected packages: magicattr, madoka, pondpond, json-repair, gepa, fastuuid, diskcache, colorlog, backoff, asyncer, optuna, litellm, dspy\n",
            "Successfully installed asyncer-0.0.8 backoff-2.2.1 colorlog-6.9.0 diskcache-5.6.3 dspy-3.0.3 fastuuid-0.12.0 gepa-0.0.7 json-repair-0.51.0 litellm-1.77.3 madoka-0.7.1 magicattr-0.1.6 optuna-4.5.0 pondpond-1.4.1\n"
          ]
        }
      ],
      "source": [
        "!pip install -U dspy"
      ]
    },
    {
      "cell_type": "code",
      "source": [
        "import dspy\n",
        "lm = dspy.LM(\"gemini/gemini-2.5-flash\", api_key=\"your api key\")\n",
        "dspy.configure(lm=lm)"
      ],
      "metadata": {
        "id": "GTHHll_dCwvP"
      },
      "execution_count": null,
      "outputs": []
    },
    {
      "cell_type": "code",
      "source": [
        "math = dspy.ChainOfThought(\"question -> answer: float\")\n",
        "math(question=\"Two dice are tossed. What is the probability that the sum equals two?\")"
      ],
      "metadata": {
        "colab": {
          "base_uri": "https://localhost:8080/"
        },
        "id": "o1_Rndo9DASs",
        "outputId": "c82ccd62-bc3f-428e-bcf2-b0545bc73b25"
      },
      "execution_count": null,
      "outputs": [
        {
          "output_type": "execute_result",
          "data": {
            "text/plain": [
              "Prediction(\n",
              "    reasoning='To find the probability, we need to determine the number of favorable outcomes and divide it by the total number of possible outcomes.\\n\\n1.  **Total Possible Outcomes:**\\n    When two dice are tossed, each die has 6 faces (1, 2, 3, 4, 5, 6).\\n    The total number of possible outcomes is 6 * 6 = 36.\\n    These outcomes can be represented as pairs (die1, die2):\\n    (1,1), (1,2), (1,3), (1,4), (1,5), (1,6)\\n    (2,1), (2,2), (2,3), (2,4), (2,5), (2,6)\\n    (3,1), (3,2), (3,3), (3,4), (3,5), (3,6)\\n    (4,1), (4,2), (4,3), (4,4), (4,5), (4,6)\\n    (5,1), (5,2), (5,3), (5,4), (5,5), (5,6)\\n    (6,1), (6,2), (6,3), (6,4), (6,5), (6,6)\\n\\n2.  **Favorable Outcomes (Sum equals two):**\\n    We need to find the combinations where the sum of the two dice is 2.\\n    The only combination that results in a sum of 2 is (1, 1).\\n    So, there is only 1 favorable outcome.\\n\\n3.  **Calculate Probability:**\\n    Probability = (Number of Favorable Outcomes) / (Total Possible Outcomes)\\n    Probability = 1 / 36\\n\\n4.  **Convert to float:**\\n    1 / 36 = 0.027777777777777776',\n",
              "    answer=0.027777777777777776\n",
              ")"
            ]
          },
          "metadata": {},
          "execution_count": 8
        }
      ]
    },
    {
      "cell_type": "code",
      "source": [
        "qa = dspy.Predict('question: str -> response: str')\n",
        "response = qa(question=\"what are high memory and low memory on linux?\")\n",
        "\n",
        "print(response.response)"
      ],
      "metadata": {
        "colab": {
          "base_uri": "https://localhost:8080/"
        },
        "id": "mqB46BK3DGFa",
        "outputId": "95e92cb8-bcee-4200-a451-f8bf1113a74d"
      },
      "execution_count": null,
      "outputs": [
        {
          "output_type": "stream",
          "name": "stdout",
          "text": [
            "In Linux, particularly on 32-bit architectures, \"low memory\" and \"high memory\" refer to different regions of physical RAM as seen and managed by the kernel. This distinction was crucial for the kernel to address more physical memory than its direct virtual address space could typically map.\n",
            "\n",
            "**1. Low Memory (Lowmem)**\n",
            "\n",
            "*   **Definition:** This is the portion of physical RAM that the kernel can *directly and permanently map* into its virtual address space. It's always accessible to the kernel without any special operations.\n",
            "*   **Typical Size:** On 32-bit systems, the kernel typically reserves a portion of its 4GB virtual address space (e.g., the top 1GB or 2GB) for itself. Within this kernel space, a significant chunk (often the first 896MB or 1GB of physical RAM) is designated as low memory.\n",
            "*   **Characteristics:**\n",
            "    *   **Direct Mapping:** Every physical page in lowmem has a corresponding, permanently mapped virtual address in the kernel's address space.\n",
            "    *   **Always Accessible:** The kernel can access lowmem pages at any time, without needing to perform explicit mapping operations.\n",
            "    *   **Critical for Kernel:** Many critical kernel data structures, device buffers, and the kernel code itself reside in low memory because they require constant, direct access.\n",
            "    *   **DMA-friendly:** Often, devices performing Direct Memory Access (DMA) can only access memory within the lowmem region.\n",
            "\n",
            "**2. High Memory (Highmem)**\n",
            "\n",
            "*   **Definition:** This is the physical RAM that lies *beyond* the low memory region. On 32-bit systems, this would be any physical memory above the first 896MB or 1GB (depending on the kernel configuration).\n",
            "*   **Why it Exists:** The 32-bit kernel has a limited virtual address space (typically 1GB or 2GB out of the total 4GB virtual address space). If a system has more than 1GB of physical RAM, the kernel cannot permanently map all of it into its direct virtual address space. Highmem provides a mechanism to utilize this \"extra\" physical memory.\n",
            "*   **Characteristics:**\n",
            "    *   **Not Permanently Mapped:** Highmem pages are *not* permanently mapped into the kernel's virtual address space.\n",
            "    *   **Temporary Mapping:** To access a highmem page, the kernel (or a kernel module) must explicitly map it into a temporary slot within its virtual address space using functions like `kmap()` or `kmap_atomic()`. Once the access is complete, the page must be unmapped (`kunmap()`, `kunmap_atomic()`) to free up the virtual address slot for other highmem pages.\n",
            "    *   **Performance Overhead:** The mapping/unmapping operations introduce a slight performance overhead compared to accessing lowmem.\n",
            "    *   **User Space:** User-space processes can still utilize highmem pages directly, as their virtual address space is separate from the kernel's. The highmem distinction primarily affects how the *kernel itself* accesses physical memory.\n",
            "\n",
            "**Analogy:**\n",
            "\n",
            "Imagine the kernel's direct virtual address space as a small desk (e.g., 1GB capacity).\n",
            "*   **Lowmem:** These are the essential documents you keep *permanently on your desk* because you need constant, immediate access to them.\n",
            "*   **Highmem:** These are other important documents stored in a *filing cabinet* next to your desk. When you need one, you pull it out, place it on a temporary spot on your desk, work with it, and then put it back in the cabinet to make space for the next document.\n",
            "\n",
            "**Relevance to 64-bit Systems:**\n",
            "\n",
            "On 64-bit Linux systems, the concepts of low memory and high memory are largely **obsolete or irrelevant** in their traditional sense. 64-bit architectures provide an enormous virtual address space (terabytes or even petabytes), far exceeding typical physical RAM sizes. This allows the kernel to directly map *all* physical memory into its virtual address space, eliminating the need for temporary highmem mappings. All physical memory effectively behaves like \"low memory\" from the kernel's perspective.\n",
            "\n",
            "Therefore, while the terms might occasionally appear in very low-level kernel discussions or legacy code, for most practical purposes on modern 64-bit systems, the distinction between lowmem and highmem is no longer a significant concern.\n"
          ]
        }
      ]
    },
    {
      "cell_type": "code",
      "source": [
        "qa = dspy.Predict('question: str -> response: str')\n",
        "response = qa(question=\"what is the difference between vitamin A & Vitamin B?return the output in tabular format along with serial no.\")\n",
        "\n",
        "print(response.response)"
      ],
      "metadata": {
        "colab": {
          "base_uri": "https://localhost:8080/"
        },
        "id": "FD2KmRUAEwHM",
        "outputId": "e2f605be-5bad-464d-c7fe-77e1be98a988"
      },
      "execution_count": null,
      "outputs": [
        {
          "output_type": "stream",
          "name": "stdout",
          "text": [
            "Here's a tabular comparison of Vitamin A and Vitamin B:\n",
            "\n",
            "| S.No. | Feature           | Vitamin A (Retinol)                               | Vitamin B (Complex)                                     |\n",
            "|-------|-------------------|---------------------------------------------------|---------------------------------------------------------|\n",
            "| 1.    | **Type**          | Fat-soluble vitamin                               | Water-soluble vitamin (a group of 8 distinct vitamins)  |\n",
            "| 2.    | **Storage**       | Stored in the liver and fatty tissues             | Not significantly stored in the body; excess excreted   |\n",
            "| 3.    | **Chemical Name** | Retinol, Retinal, Retinoic Acid                   | A complex of B1 (Thiamine), B2 (Riboflavin), B3 (Niacin), B5 (Pantothenic Acid), B6 (Pyridoxine), B7 (Biotin), B9 (Folate), B12 (Cobalamin) |\n",
            "| 4.    | **Primary Roles** | Vision, immune function, cell growth, skin health, reproduction | Energy metabolism, nerve function, red blood cell formation, DNA synthesis, brain function |\n",
            "| 5.    | **Deficiency**    | Night blindness, dry eyes, impaired immunity, poor growth | Fatigue, anemia, nerve damage, skin issues, depression, digestive problems (symptoms vary depending on specific B vitamin deficiency) |\n",
            "| 6.    | **Toxicity**      | Possible with excessive intake (hypervitaminosis A), leading to liver damage, bone pain, birth defects | Generally low toxicity due to water solubility; excess usually excreted. High doses of some B vitamins (e.g., B3, B6) can cause side effects. |\n",
            "| 7.    | **Key Sources**   | Carrots, sweet potatoes, spinach, liver, eggs, dairy products | Whole grains, meat, fish, eggs, dairy, legumes, leafy green vegetables, nuts, seeds |\n"
          ]
        }
      ]
    },
    {
      "cell_type": "markdown",
      "source": [
        "#"
      ],
      "metadata": {
        "id": "9MWOI0muHmcC"
      }
    },
    {
      "cell_type": "code",
      "source": [
        "import dspy\n",
        "\n",
        "#dspy.settings.configure(lm=dspy.LM(\"gemini/gemini-2.5-flash\"))\n",
        "\n",
        "lm = dspy.LM(\"gemini/gemini-2.5-flash\", api_key=\"your api key\")\n",
        "dspy.configure(lm=lm)\n",
        "\n",
        "# Define a QA module with chain of thought\n",
        "qa = dspy.ChainOfThought(\"question -> answer\")\n",
        "\n",
        "# Define a reward function that checks for one-word answers\n",
        "def one_word_answer(args, pred):\n",
        "    return 1.0 if len(pred.answer.split()) == 1 else 0.0\n",
        "\n",
        "# Create a refined module that tries up to 3 times\n",
        "best_of_3 = dspy.BestOfN(module=qa, N=3, reward_fn=one_word_answer, threshold=1.0)\n",
        "\n",
        "# Use the refined module\n",
        "result = best_of_3(question=\"What is the capital of Belgium?\").answer\n",
        "# Returns: Brussels"
      ],
      "metadata": {
        "id": "9mD1hIsrFOfd"
      },
      "execution_count": null,
      "outputs": []
    },
    {
      "cell_type": "code",
      "source": [
        "print(result)"
      ],
      "metadata": {
        "colab": {
          "base_uri": "https://localhost:8080/"
        },
        "id": "u5zLSVSeHMWM",
        "outputId": "f16ab42b-9828-46cc-ea2f-46184cb2ced9"
      },
      "execution_count": null,
      "outputs": [
        {
          "output_type": "stream",
          "name": "stdout",
          "text": [
            "Brussels\n"
          ]
        }
      ]
    },
    {
      "cell_type": "code",
      "source": [
        "import dspy\n",
        "\n",
        "lm = dspy.LM(\"gemini/gemini-2.5-flash\", api_key=\"your api key\")\n",
        "\n",
        "\n",
        "class CodeGeneration(dspy.Signature):\n",
        "    '''Generate python code to answer the question.'''\n",
        "\n",
        "    question: str = dspy.InputField(description=\"The question to answer\")\n",
        "    code: dspy.Code[\"java\"] = dspy.OutputField(description=\"The code to execute\")\n",
        "\n",
        "\n",
        "predict = dspy.Predict(CodeGeneration)\n",
        "\n",
        "result = predict(question=\"Given an array, find if any of the two numbers sum up to 10\")\n",
        "print(result.code)"
      ],
      "metadata": {
        "colab": {
          "base_uri": "https://localhost:8080/"
        },
        "id": "_KMNOOsiHhpb",
        "outputId": "53536d52-512a-406a-f312-1dd85d773d2e"
      },
      "execution_count": null,
      "outputs": [
        {
          "output_type": "stream",
          "name": "stdout",
          "text": [
            "code='import java.util.HashSet;\\nimport java.util.Set;\\n\\npublic class Solution {\\n\\n    /**\\n     * Checks if any two numbers in the given array sum up to 10.\\n     *\\n     * @param arr The input array of integers.\\n     * @return true if there exist two numbers in the array that sum to 10, false otherwise.\\n     */\\n    public boolean hasPairSumTen(int[] arr) {\\n        if (arr == null || arr.length < 2) {\\n            return false; // Cannot form a pair with less than 2 elements\\n        }\\n\\n        // Using a HashSet for O(n) average time complexity\\n        Set<Integer> seenNumbers = new HashSet<>();\\n\\n        for (int num : arr) {\\n            int complement = 10 - num;\\n            if (seenNumbers.contains(complement)) {\\n                return true; // Found a pair that sums to 10\\n            }\\n            seenNumbers.add(num);\\n        }\\n\\n        return false; // No such pair found\\n    }\\n\\n    // Main method for testing\\n    public static void main(String[] args) {\\n        Solution sol = new Solution();\\n\\n        // Test cases\\n        int[] arr1 = {1, 7, 3, 9, 5}; // 1 + 9 = 10\\n        int[] arr2 = {2, 8, 4, 6};    // 2 + 8 = 10, 4 + 6 = 10\\n        int[] arr3 = {1, 2, 3, 4, 5}; // No pair sums to 10\\n        int[] arr4 = {};             // Empty array\\n        int[] arr5 = {10};           // Single element\\n        int[] arr6 = {0, 10};        // 0 + 10 = 10\\n        int[] arr7 = {-5, 15};       // -5 + 15 = 10\\n        int[] arr8 = {5, 5};         // 5 + 5 = 10\\n\\n        System.out.println(\"Array: [1, 7, 3, 9, 5] -> Has pair sum 10: \" + sol.hasPairSumTen(arr1)); // Expected: true\\n        System.out.println(\"Array: [2, 8, 4, 6] -> Has pair sum 10: \" + sol.hasPairSumTen(arr2));   // Expected: true\\n        System.out.println(\"Array: [1, 2, 3, 4, 5] -> Has pair sum 10: \" + sol.hasPairSumTen(arr3)); // Expected: false\\n        System.out.println(\"Array: [] -> Has pair sum 10: \" + sol.hasPairSumTen(arr4));             // Expected: false\\n        System.out.println(\"Array: [10] -> Has pair sum 10: \" + sol.hasPairSumTen(arr5));           // Expected: false\\n        System.out.println(\"Array: [0, 10] -> Has pair sum 10: \" + sol.hasPairSumTen(arr6));         // Expected: true\\n        System.out.println(\"Array: [-5, 15] -> Has pair sum 10: \" + sol.hasPairSumTen(arr7));       // Expected: true\\n        System.out.println(\"Array: [5, 5] -> Has pair sum 10: \" + sol.hasPairSumTen(arr8));         // Expected: true\\n    }\\n}'\n"
          ]
        }
      ]
    },
    {
      "cell_type": "code",
      "source": [
        "import dspy\n",
        "import inspect\n",
        "\n",
        "class CodeAnalysis(dspy.Signature):\n",
        "    '''Analyze the time complexity of the function.'''\n",
        "\n",
        "    code: dspy.Code[\"python\"] = dspy.InputField(description=\"The function to analyze\")\n",
        "    result: str = dspy.OutputField(description=\"The time complexity of the function\")\n",
        "\n",
        "\n",
        "predict = dspy.Predict(CodeAnalysis)\n",
        "\n",
        "\n",
        "def sleepsort(x):\n",
        "    import time\n",
        "\n",
        "    for i in x:\n",
        "        time.sleep(i)\n",
        "        print(i)\n",
        "\n",
        "result = predict(code=inspect.getsource(sleepsort))\n",
        "print(result.result)"
      ],
      "metadata": {
        "colab": {
          "base_uri": "https://localhost:8080/"
        },
        "id": "vcIrB0M4La2n",
        "outputId": "1bd198ae-82d7-4c42-bbef-56bc3800e17f"
      },
      "execution_count": null,
      "outputs": [
        {
          "output_type": "stream",
          "name": "stdout",
          "text": [
            "The time complexity of the `sleepsort` function is O(sum(x)), where `sum(x)` is the sum of all elements in the input list `x`. This is because the dominant operation is `time.sleep(i)`, which pauses execution for `i` seconds for each element `i` in the list. The total time taken is therefore proportional to the sum of all these sleep durations.\n",
            "\n",
            "If we were to express it in terms of `n` (the number of elements in `x`) and `M` (the maximum value in `x`), the worst-case time complexity would be O(n * M), as `sum(x)` could be up to `n * M` if all elements were `M`. However, O(sum(x)) is a more precise description for this specific algorithm.\n"
          ]
        }
      ]
    },
    {
      "cell_type": "code",
      "source": [],
      "metadata": {
        "id": "ULJITVSjLlCS"
      },
      "execution_count": null,
      "outputs": []
    }
  ]
}